{
  "nbformat": 4,
  "nbformat_minor": 0,
  "metadata": {
    "colab": {
      "provenance": [],
      "authorship_tag": "ABX9TyM8H3/2X1zL/MxxYTNktF6N",
      "include_colab_link": true
    },
    "kernelspec": {
      "name": "python3",
      "display_name": "Python 3"
    },
    "language_info": {
      "name": "python"
    }
  },
  "cells": [
    {
      "cell_type": "markdown",
      "metadata": {
        "id": "view-in-github",
        "colab_type": "text"
      },
      "source": [
        "<a href=\"https://colab.research.google.com/github/SARMATHIk/NeMo/blob/main/Untitled0.ipynb\" target=\"_parent\"><img src=\"https://colab.research.google.com/assets/colab-badge.svg\" alt=\"Open In Colab\"/></a>"
      ]
    },
    {
      "cell_type": "code",
      "execution_count": 3,
      "metadata": {
        "colab": {
          "base_uri": "https://localhost:8080/"
        },
        "id": "9f43dLlkIgzu",
        "outputId": "40dae785-6ba7-4a08-d6f2-a036bc4afd03"
      },
      "outputs": [
        {
          "output_type": "stream",
          "name": "stdout",
          "text": [
            "Enter a letter:React\n",
            "The letter is not a palindrome\n"
          ]
        }
      ],
      "source": [
        "string=input((\"Enter a letter:\"))\n",
        "if(string==string[::-1]):\n",
        "      print(\"The letter is a palindrome\")\n",
        "else:\n",
        "      print(\"The letter is not a palindrome\")"
      ]
    },
    {
      "cell_type": "code",
      "source": [],
      "metadata": {
        "id": "lvyoZU9gMLhG"
      },
      "execution_count": null,
      "outputs": []
    }
  ]
}